{
  "nbformat": 4,
  "nbformat_minor": 0,
  "metadata": {
    "colab": {
      "provenance": [],
      "authorship_tag": "ABX9TyNPiKoTMDVBnJYN1C+f2PuC",
      "include_colab_link": true
    },
    "kernelspec": {
      "name": "ir",
      "display_name": "R"
    },
    "language_info": {
      "name": "R"
    }
  },
  "cells": [
    {
      "cell_type": "markdown",
      "metadata": {
        "id": "view-in-github",
        "colab_type": "text"
      },
      "source": [
        "<a href=\"https://colab.research.google.com/github/jennyryao/final_project/blob/main/solar_rooftop_r_code.ipynb\" target=\"_parent\"><img src=\"https://colab.research.google.com/assets/colab-badge.svg\" alt=\"Open In Colab\"/></a>"
      ]
    },
    {
      "cell_type": "code",
      "source": [
        "install_packages <- function() {\n",
        "  install.packages(\"skimr\")\n",
        "  install.packages(\"corrr\")\n",
        "  install.packages(\"tidyverse\")\n",
        "}\n",
        "install_packages()"
      ],
      "metadata": {
        "id": "ISj2j_8mFl7X",
        "colab": {
          "base_uri": "https://localhost:8080/"
        },
        "outputId": "b31907a8-4909-4b74-ef4b-99acba1fa183"
      },
      "execution_count": null,
      "outputs": [
        {
          "output_type": "stream",
          "name": "stderr",
          "text": [
            "Installing package into ‘/usr/local/lib/R/site-library’\n",
            "(as ‘lib’ is unspecified)\n",
            "\n",
            "Installing package into ‘/usr/local/lib/R/site-library’\n",
            "(as ‘lib’ is unspecified)\n",
            "\n",
            "also installing the dependencies ‘iterators’, ‘foreach’, ‘Rcpp’, ‘TSP’, ‘qap’, ‘gclus’, ‘ca’, ‘registry’, ‘ggrepel’, ‘seriation’\n",
            "\n",
            "\n",
            "Installing package into ‘/usr/local/lib/R/site-library’\n",
            "(as ‘lib’ is unspecified)\n",
            "\n"
          ]
        }
      ]
    },
    {
      "cell_type": "code",
      "source": [
        "global_imports <- function() {\n",
        "  library(skimr)\n",
        "  library(corrr)\n",
        "  library(tidyverse)\n",
        "}\n",
        "global_imports()"
      ],
      "metadata": {
        "colab": {
          "base_uri": "https://localhost:8080/"
        },
        "id": "faLGrNRjYTv7",
        "outputId": "722b87c6-35ed-413c-e78b-a662f1af442c"
      },
      "execution_count": null,
      "outputs": [
        {
          "output_type": "stream",
          "name": "stderr",
          "text": [
            "\n",
            "Attaching package: ‘corrr’\n",
            "\n",
            "\n",
            "The following object is masked from ‘package:skimr’:\n",
            "\n",
            "    focus\n",
            "\n",
            "\n"
          ]
        }
      ]
    },
    {
      "cell_type": "code",
      "source": [
        "df <- read_csv(\"deepsolar_tract_model.csv\") \n",
        "\n",
        "# Run a multicollinearity check\n",
        "#cor(df)"
      ],
      "metadata": {
        "colab": {
          "base_uri": "https://localhost:8080/"
        },
        "id": "P_1gw7fZF1ED",
        "outputId": "ff5383b5-e8f1-48a5-8271-137ac17ff2f1"
      },
      "execution_count": null,
      "outputs": [
        {
          "output_type": "stream",
          "name": "stderr",
          "text": [
            "Warning message:\n",
            "“\u001b[1m\u001b[22mOne or more parsing issues, call `problems()` on your data frame for details,\n",
            "e.g.:\n",
            "  dat <- vroom(...)\n",
            "  problems(dat)”\n",
            "\u001b[1mRows: \u001b[22m\u001b[34m71574\u001b[39m \u001b[1mColumns: \u001b[22m\u001b[34m148\u001b[39m\n",
            "\u001b[36m──\u001b[39m \u001b[1mColumn specification\u001b[22m \u001b[36m────────────────────────────────────────────────────────\u001b[39m\n",
            "\u001b[1mDelimiter:\u001b[22m \",\"\n",
            "\u001b[32mdbl\u001b[39m (146): ID, total_panel_area, average_household_income, education_bachelo...\n",
            "\u001b[33mlgl\u001b[39m   (2): voting_2016_dem_win, voting_2012_dem_win\n",
            "\n",
            "\u001b[36mℹ\u001b[39m Use `spec()` to retrieve the full column specification for this data.\n",
            "\u001b[36mℹ\u001b[39m Specify the column types or set `show_col_types = FALSE` to quiet this message.\n"
          ]
        }
      ]
    },
    {
      "cell_type": "code",
      "source": [
        "#split train and test\n",
        "\n",
        "set.seed(123)\n",
        "\n",
        "train_rowIndex <- sample(row.names(df), 0.7*nrow(df))  \n",
        "\n",
        "test_rowIndex  <- setdiff(row.names(df), train_rowIndex)  \n",
        "\n",
        "df_train <- df[train_rowIndex, ]\n",
        "\n",
        "df_test <- df[test_rowIndex , ]"
      ],
      "metadata": {
        "id": "uE6bFRpEWaM4"
      },
      "execution_count": null,
      "outputs": []
    },
    {
      "cell_type": "code",
      "source": [
        "write.csv(df_train, file='df_train.csv')\n",
        "write.csv(df_test, file='df_test.csv')"
      ],
      "metadata": {
        "id": "pRzAHCE6hhIT"
      },
      "execution_count": null,
      "outputs": []
    },
    {
      "cell_type": "code",
      "source": [
        "#create regression model\n",
        "\n",
        "#mod <- glm(solar_panel_area_divided_by_area ~., family=\"binomial\",data=df_train)\n",
        "#summary(mod)\n",
        "#step(mod, direction = \"backward\")"
      ],
      "metadata": {
        "id": "uc501i_9bSS6"
      },
      "execution_count": null,
      "outputs": []
    }
  ]
}